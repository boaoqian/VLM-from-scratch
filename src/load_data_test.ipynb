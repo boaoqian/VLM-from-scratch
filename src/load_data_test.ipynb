{
 "cells": [
  {
   "cell_type": "code",
   "execution_count": 4,
   "id": "93f877e7",
   "metadata": {},
   "outputs": [],
   "source": [
    "# %%\n",
    "from datasets import load_dataset\n",
    "from model.ViT import ViT\n",
    "import torchvision,torch\n",
    "import matplotlib.pyplot as plt\n",
    "\n",
    "# %%\n",
    "dataset = load_dataset(\"parquet\", data_files=\"/media/qba/Data/Project/DeepLearning/Dataset/the_cauldron/tqa/train-00000-of-00001-c15be8aed9c93862.parquet\")\n",
    "\n",
    "# %%\n",
    "dataset = dataset[\"train\"]\n",
    "process = torchvision.transforms.Compose([\n",
    "    torchvision.transforms.Resize((224, 224)),\n",
    "    torchvision.transforms.ToTensor(),\n",
    "    torchvision.transforms.Normalize(mean=[0.485, 0.456, 0.406], std=[0.229, 0.224, 0.225])\n",
    "])\n",
    "\n",
    "\n",
    "def process_data(batch):\n",
    "    for i in range(len(batch['images'])):\n",
    "        batch['images'][i] = [process(img) for img in batch['images'][i]]\n",
    "\n",
    "    messages = []\n",
    "    for i in range(len(batch[\"texts\"])):\n",
    "        for text in batch[\"texts\"][i]:\n",
    "            messages.append({\"role\": \"user\", \"content\": text['user']})\n",
    "            messages.append({\"role\": \"assistant\", \"content\": text['assistant']})\n",
    "        batch[\"texts\"][i] = messages\n",
    "    return batch"
   ]
  },
  {
   "cell_type": "code",
   "execution_count": 5,
   "id": "6241dab0",
   "metadata": {},
   "outputs": [],
   "source": [
    "dataset.set_transform(process_data)"
   ]
  },
  {
   "cell_type": "code",
   "execution_count": 7,
   "id": "e70fb897",
   "metadata": {},
   "outputs": [
    {
     "data": {
      "text/plain": [
       "Dataset({\n",
       "    features: ['images', 'texts'],\n",
       "    num_rows: 1493\n",
       "})"
      ]
     },
     "execution_count": 7,
     "metadata": {},
     "output_type": "execute_result"
    }
   ],
   "source": [
    "dataset"
   ]
  },
  {
   "cell_type": "code",
   "execution_count": 4,
   "id": "7129efcf",
   "metadata": {},
   "outputs": [
    {
     "data": {
      "text/plain": [
       "{'input_ids': [151655, 151655, 151655, 14990], 'attention_mask': [1, 1, 1, 1]}"
      ]
     },
     "execution_count": 4,
     "metadata": {},
     "output_type": "execute_result"
    }
   ],
   "source": [
    "from transformers import AutoTokenizer\n",
    "tokenizer = AutoTokenizer.from_pretrained(\"/media/qba/Data/Project/DeepLearning/Model/Qwen3-0.6B\")\n",
    "tokenizer(\"<|image_pad|><|image_pad|><|image_pad|>hello\")"
   ]
  }
 ],
 "metadata": {
  "kernelspec": {
   "display_name": "dl",
   "language": "python",
   "name": "python3"
  },
  "language_info": {
   "codemirror_mode": {
    "name": "ipython",
    "version": 3
   },
   "file_extension": ".py",
   "mimetype": "text/x-python",
   "name": "python",
   "nbconvert_exporter": "python",
   "pygments_lexer": "ipython3",
   "version": "3.11.8"
  }
 },
 "nbformat": 4,
 "nbformat_minor": 5
}
