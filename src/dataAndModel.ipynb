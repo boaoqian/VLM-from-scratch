{
 "cells": [
  {
   "cell_type": "code",
   "id": "1d4f90dd26224059",
   "metadata": {
    "ExecuteTime": {
     "end_time": "2025-09-03T02:44:40.620992Z",
     "start_time": "2025-09-03T02:44:35.703475Z"
    }
   },
   "source": [
    "from datasets import load_dataset\n",
    "from torch.utils.data import DataLoader\n",
    "from torchvision import transforms\n",
    "from transformers import AutoTokenizer\n",
    "from data.dataset import VQADataset\n",
    "from data.collector import Collector\n",
    "from model.Qwen3VL import Qwen3VL\n",
    "from model.Config import Qwen3VLConfig\n",
    "\n",
    "tokenizer = AutoTokenizer.from_pretrained(\"/media/qba/Data/Project/DeepLearning/Model/Qwen3-0.6B\")\n",
    "\n",
    "data = load_dataset(\"parquet\", data_files=\"/media/qba/Data/Project/DeepLearning/Dataset/the_cauldron/tqa/train-00000-of-00001-c15be8aed9c93862.parquet\")[\"train\"]\n",
    "image_processor = transforms.Compose([\n",
    "    transforms.Resize((224, 224)),\n",
    "    transforms.ToTensor(),\n",
    "    transforms.Normalize(mean=[0.485, 0.456, 0.406], std=[0.229, 0.224, 0.225]),\n",
    "])\n",
    "\n",
    "dataset = VQADataset(data, tokenizer, image_processor, 49)\n",
    "collector = Collector(tokenizer.pad_token_id,\"cpu\")\n",
    "data_loader = DataLoader(dataset, batch_size=2, collate_fn=collector)\n",
    "\n",
    "data1 = next(iter(data_loader))"
   ],
   "outputs": [],
   "execution_count": 1
  },
  {
   "metadata": {
    "ExecuteTime": {
     "end_time": "2025-09-03T02:44:40.635554Z",
     "start_time": "2025-09-03T02:44:40.630881Z"
    }
   },
   "cell_type": "code",
   "source": "data1[\"images\"][0].shape",
   "id": "e3d91c97fd559f9a",
   "outputs": [
    {
     "data": {
      "text/plain": [
       "torch.Size([1, 3, 224, 224])"
      ]
     },
     "execution_count": 2,
     "metadata": {},
     "output_type": "execute_result"
    }
   ],
   "execution_count": 2
  },
  {
   "metadata": {
    "collapsed": true,
    "ExecuteTime": {
     "end_time": "2025-09-03T02:44:45.840759Z",
     "start_time": "2025-09-03T02:44:40.687375Z"
    }
   },
   "cell_type": "code",
   "source": [
    "config = Qwen3VLConfig.from_pretrained(\"/media/qba/Data/Project/DeepLearning/Build VLM from scratch/src/Qwen3VL\")\n",
    "model = Qwen3VL(config)#.to(\"cuda\")\n",
    "out = model(**data1)\n",
    "print(out)\n"
   ],
   "id": "initial_id",
   "outputs": [
    {
     "name": "stdout",
     "output_type": "stream",
     "text": [
      "(tensor([[ 4.9193e-01, -4.3981e-01, -6.1097e-02,  ..., -1.1683e+00,\n",
      "         -5.9019e-01, -2.6650e-01],\n",
      "        [ 4.9594e-01,  8.8556e-01, -1.3475e-01,  ..., -1.0242e+00,\n",
      "         -3.8373e-01,  6.3107e-03],\n",
      "        [ 8.4393e-01,  6.3141e-01, -5.2264e-01,  ...,  3.1402e-01,\n",
      "         -7.6301e-01, -2.1951e-01],\n",
      "        ...,\n",
      "        [ 2.5659e-01,  1.1087e+00,  4.7638e-01,  ...,  2.7668e-01,\n",
      "          4.9186e-01, -4.2844e-01],\n",
      "        [-5.3715e-01,  1.2138e+00, -2.4492e-02,  ..., -7.4251e-01,\n",
      "          9.9593e-02,  2.0317e-01],\n",
      "        [-3.4082e-01,  9.4105e-01, -4.0758e-02,  ...,  7.7099e-04,\n",
      "         -6.3091e-01, -3.7275e-02]], grad_fn=<ViewBackward0>), tensor(12.3010, grad_fn=<NllLossBackward0>))\n"
     ]
    }
   ],
   "execution_count": 3
  }
 ],
 "metadata": {
  "kernelspec": {
   "display_name": "Python 3",
   "language": "python",
   "name": "python3"
  },
  "language_info": {
   "codemirror_mode": {
    "name": "ipython",
    "version": 2
   },
   "file_extension": ".py",
   "mimetype": "text/x-python",
   "name": "python",
   "nbconvert_exporter": "python",
   "pygments_lexer": "ipython2",
   "version": "2.7.6"
  }
 },
 "nbformat": 4,
 "nbformat_minor": 5
}
